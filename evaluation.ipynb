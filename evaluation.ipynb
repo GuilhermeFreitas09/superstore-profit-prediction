{
 "cells": [
  {
   "cell_type": "code",
   "execution_count": 1,
   "metadata": {},
   "outputs": [],
   "source": [
    "import warnings\n",
    "warnings.filterwarnings(action='ignore')\n",
    "\n",
    "import pandas as pd\n",
    "import numpy as np\n",
    "\n",
    "import joblib\n",
    "\n",
    "from sklearn.metrics import mean_squared_error"
   ]
  },
  {
   "cell_type": "code",
   "execution_count": 2,
   "metadata": {},
   "outputs": [],
   "source": [
    "X_train = pd.read_csv('data/train.csv', dtype={'Class': bool})\n",
    "X_test = pd.read_csv('data/test.csv', dtype={'Class': bool})"
   ]
  },
  {
   "cell_type": "code",
   "execution_count": 3,
   "metadata": {},
   "outputs": [],
   "source": [
    "features = [\n",
    "        'ship_mode', \n",
    "        'segment',\n",
    "        'region', \n",
    "        'category', \n",
    "        'sub_category', \n",
    "        'sales', \n",
    "        'quantity', \n",
    "        'discount',\n",
    "        'state'\n",
    "]\n",
    "\n",
    "target = 'profit'"
   ]
  },
  {
   "cell_type": "code",
   "execution_count": 4,
   "metadata": {},
   "outputs": [],
   "source": [
    "for feature in X_train.select_dtypes(include=['object','category']).columns.tolist():\n",
    "    X_train[feature] = pd.Categorical(X_train[feature], categories=X_train[feature].unique())\n",
    "    X_test[feature] = pd.Categorical(X_test[feature], categories=X_test[feature].unique())"
   ]
  },
  {
   "cell_type": "code",
   "execution_count": 5,
   "metadata": {},
   "outputs": [],
   "source": [
    "y_train = X_train[target]\n",
    "X_train = X_train[X_train.columns.drop(target)]\n",
    "X_train = X_train[features]"
   ]
  },
  {
   "cell_type": "code",
   "execution_count": 6,
   "metadata": {},
   "outputs": [],
   "source": [
    "model_et = joblib.load('models/best_model_et.pkl')\n",
    "model_gbr = joblib.load('models/best_model_gbr.pkl')\n",
    "model_knr = joblib.load('models/best_model_knr.pkl')\n",
    "model_lgb = joblib.load('models/best_model_lightgbm.pkl')\n",
    "model_rf = joblib.load('models/best_model_randomforest.pkl')"
   ]
  },
  {
   "cell_type": "code",
   "execution_count": 7,
   "metadata": {},
   "outputs": [
    {
     "name": "stdout",
     "output_type": "stream",
     "text": [
      "RMSE Extra Trees: 50.743084997961994\n",
      "R squared Extra Trees: 0.9479061099883674\n",
      "\n",
      " ------------------------------------------------------------ \n",
      "\n",
      "RMSE GB Regressor: 19.82340761372613\n",
      "R squared GB Regressor: 0.9920495872379146\n",
      "\n",
      " ------------------------------------------------------------ \n",
      "\n",
      "RMSE KN Regressor: 1.034017196584682\n",
      "R squared KN Regressor: 0.9999783684033028\n",
      "\n",
      " ------------------------------------------------------------ \n",
      "\n",
      "RMSE Light GBM Regressor: 28.41843877059997\n",
      "R squared Light GBM Regressor: 0.983660698564506\n",
      "\n",
      " ------------------------------------------------------------ \n",
      "\n",
      "RMSE RF Regressor: 55.572287165679036\n",
      "R squared RF Regressor: 0.9375187662156954\n",
      "\n",
      " ------------------------------------------------------------ \n",
      "\n"
     ]
    }
   ],
   "source": [
    "for (model, model_name) in [(model_et, 'Extra Trees'), (model_gbr, 'GB Regressor'), (model_knr, 'KN Regressor'), (model_lgb, 'Light GBM Regressor'), (model_rf, 'RF Regressor')]:\n",
    "    y_pred = model.predict(X_train)\n",
    "\n",
    "    mse = np.sqrt(mean_squared_error(y_train, y_pred))\n",
    "    sc = model.score(X_train, y_train)\n",
    "    print(f\"RMSE {model_name}:\", mse)\n",
    "    print(f\"R squared {model_name}:\", sc)\n",
    "    print('\\n', '-'*60, '\\n')\n"
   ]
  },
  {
   "cell_type": "markdown",
   "metadata": {},
   "source": [
    "All models seems overfitted, so we should look for models that use penalty coefficients (like Lasso/Ridge regressions) to reduce overfitting."
   ]
  },
  {
   "cell_type": "code",
   "execution_count": 8,
   "metadata": {},
   "outputs": [],
   "source": [
    "X_test['profit'] = model_knr.predict(X_test[features])\n",
    "X_test[['id', 'profit']].to_csv('data/submission_knn.csv', index=False)"
   ]
  },
  {
   "cell_type": "code",
   "execution_count": 9,
   "metadata": {},
   "outputs": [],
   "source": [
    "X_test['profit'] = model_gbr.predict(X_test[features])\n",
    "X_test[['id', 'profit']].to_csv('data/submission_gbr.csv', index=False)"
   ]
  },
  {
   "cell_type": "code",
   "execution_count": 10,
   "metadata": {},
   "outputs": [],
   "source": [
    "X_test['profit'] = model_lgb.predict(X_test[features])\n",
    "X_test[['id', 'profit']].to_csv('data/submission_lgbm.csv', index=False)"
   ]
  }
 ],
 "metadata": {
  "kernelspec": {
   "display_name": "fraud-detection-lJx02QUF",
   "language": "python",
   "name": "python3"
  },
  "language_info": {
   "codemirror_mode": {
    "name": "ipython",
    "version": 3
   },
   "file_extension": ".py",
   "mimetype": "text/x-python",
   "name": "python",
   "nbconvert_exporter": "python",
   "pygments_lexer": "ipython3",
   "version": "3.9.18"
  }
 },
 "nbformat": 4,
 "nbformat_minor": 2
}
