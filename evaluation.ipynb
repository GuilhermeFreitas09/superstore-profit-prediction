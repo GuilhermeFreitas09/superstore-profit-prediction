{
 "cells": [
  {
   "cell_type": "code",
   "execution_count": 19,
   "metadata": {},
   "outputs": [],
   "source": [
    "import warnings\n",
    "warnings.filterwarnings(action='ignore')\n",
    "\n",
    "import pandas as pd\n",
    "import numpy as np\n",
    "\n",
    "import joblib\n",
    "\n",
    "from sklearn.metrics import mean_squared_error"
   ]
  },
  {
   "cell_type": "code",
   "execution_count": 39,
   "metadata": {},
   "outputs": [],
   "source": [
    "X_train = pd.read_csv('data/train.csv', dtype={'Class': bool})\n",
    "X_test = pd.read_csv('data/test.csv', dtype={'Class': bool})"
   ]
  },
  {
   "cell_type": "code",
   "execution_count": 40,
   "metadata": {},
   "outputs": [],
   "source": [
    "features = [\n",
    "        'ship_mode', \n",
    "        'segment',\n",
    "        'region', \n",
    "        'category', \n",
    "        'sub_category', \n",
    "        'sales', \n",
    "        'quantity', \n",
    "        'discount',\n",
    "        'state'\n",
    "]\n",
    "\n",
    "target = 'profit'"
   ]
  },
  {
   "cell_type": "code",
   "execution_count": 41,
   "metadata": {},
   "outputs": [],
   "source": [
    "for feature in X_train.select_dtypes(include=['object','category']).columns.tolist():\n",
    "    X_train[feature] = pd.Categorical(X_train[feature], categories=X_train[feature].unique())\n",
    "    X_test[feature] = pd.Categorical(X_test[feature], categories=X_test[feature].unique())"
   ]
  },
  {
   "cell_type": "code",
   "execution_count": 42,
   "metadata": {},
   "outputs": [],
   "source": [
    "y_train = X_train[target]\n",
    "X_train = X_train[X_train.columns.drop(target)]\n",
    "X_train = X_train[features]"
   ]
  },
  {
   "cell_type": "code",
   "execution_count": 43,
   "metadata": {},
   "outputs": [],
   "source": [
    "model_et = joblib.load('models/best_model_et.pkl')\n",
    "model_gbr = joblib.load('models/best_model_gbr.pkl')\n",
    "model_knr = joblib.load('models/best_model_knr.pkl')\n",
    "model_lgb = joblib.load('models/best_model_lightgbm.pkl')\n",
    "model_rf = joblib.load('models/best_model_randomforest.pkl')"
   ]
  },
  {
   "cell_type": "code",
   "execution_count": 44,
   "metadata": {},
   "outputs": [
    {
     "name": "stdout",
     "output_type": "stream",
     "text": [
      "Erro Quadrático Médio de Extra Trees: 50.743084997961994\n",
      "Erro Quadrático Médio de GB Regressor: 19.82340761372613\n",
      "Erro Quadrático Médio de KN Regressor: 1.034017196584682\n",
      "Erro Quadrático Médio de Light GBM Regressor: 28.41843877059997\n",
      "Erro Quadrático Médio de RF Regressor: 55.572287165679036\n"
     ]
    }
   ],
   "source": [
    "for (model, model_name) in [(model_et, 'Extra Trees'), (model_gbr, 'GB Regressor'), (model_knr, 'KN Regressor'), (model_lgb, 'Light GBM Regressor'), (model_rf, 'RF Regressor')]:\n",
    "    y_pred = model.predict(X_train)\n",
    "\n",
    "    mse = np.sqrt(mean_squared_error(y_train, y_pred))\n",
    "\n",
    "    print(f\"Erro Quadrático Médio de {model_name}:\", mse)"
   ]
  },
  {
   "cell_type": "code",
   "execution_count": 51,
   "metadata": {},
   "outputs": [],
   "source": [
    "X_test['profit'] = model_knr.predict(X_test[features])\n",
    "X_test[['id', 'profit']].to_csv('data/submission_knn.csv', index=False)"
   ]
  },
  {
   "cell_type": "code",
   "execution_count": 52,
   "metadata": {},
   "outputs": [],
   "source": [
    "X_test['profit'] = model_gbr.predict(X_test[features])\n",
    "X_test[['id', 'profit']].to_csv('data/submission_gbr.csv', index=False)"
   ]
  },
  {
   "cell_type": "code",
   "execution_count": 53,
   "metadata": {},
   "outputs": [],
   "source": [
    "X_test['profit'] = model_lgb.predict(X_test[features])\n",
    "X_test[['id', 'profit']].to_csv('data/submission_lgbm.csv', index=False)"
   ]
  }
 ],
 "metadata": {
  "kernelspec": {
   "display_name": "fraud-detection-lJx02QUF",
   "language": "python",
   "name": "python3"
  },
  "language_info": {
   "codemirror_mode": {
    "name": "ipython",
    "version": 3
   },
   "file_extension": ".py",
   "mimetype": "text/x-python",
   "name": "python",
   "nbconvert_exporter": "python",
   "pygments_lexer": "ipython3",
   "version": "3.9.18"
  }
 },
 "nbformat": 4,
 "nbformat_minor": 2
}
